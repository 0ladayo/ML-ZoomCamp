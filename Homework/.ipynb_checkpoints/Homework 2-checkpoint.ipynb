{
 "cells": [
  {
   "cell_type": "code",
   "execution_count": 1,
   "id": "df7cc00e-f088-4b81-9d54-0c541db021a0",
   "metadata": {},
   "outputs": [],
   "source": [
    "import numpy as np\n",
    "\n",
    "import pandas as pd"
   ]
  },
  {
   "cell_type": "code",
   "execution_count": 2,
   "id": "1d467539-2503-4166-8004-b5f777bc247a",
   "metadata": {},
   "outputs": [],
   "source": [
    "df = pd.read_csv('laptops.csv')"
   ]
  },
  {
   "cell_type": "code",
   "execution_count": 3,
   "id": "c85bdea2-3803-43f2-bf04-009fb0d6029a",
   "metadata": {},
   "outputs": [],
   "source": [
    "df.columns = df.columns.str.lower().str.replace(' ', '_')"
   ]
  },
  {
   "cell_type": "code",
   "execution_count": 4,
   "id": "c1f4629f-1c1d-45e5-b743-bf092f102db8",
   "metadata": {},
   "outputs": [
    {
     "name": "stdout",
     "output_type": "stream",
     "text": [
      "<class 'pandas.core.frame.DataFrame'>\n",
      "RangeIndex: 2160 entries, 0 to 2159\n",
      "Data columns (total 12 columns):\n",
      " #   Column        Non-Null Count  Dtype  \n",
      "---  ------        --------------  -----  \n",
      " 0   laptop        2160 non-null   object \n",
      " 1   status        2160 non-null   object \n",
      " 2   brand         2160 non-null   object \n",
      " 3   model         2160 non-null   object \n",
      " 4   cpu           2160 non-null   object \n",
      " 5   ram           2160 non-null   int64  \n",
      " 6   storage       2160 non-null   int64  \n",
      " 7   storage_type  2118 non-null   object \n",
      " 8   gpu           789 non-null    object \n",
      " 9   screen        2156 non-null   float64\n",
      " 10  touch         2160 non-null   object \n",
      " 11  final_price   2160 non-null   float64\n",
      "dtypes: float64(2), int64(2), object(8)\n",
      "memory usage: 202.6+ KB\n"
     ]
    }
   ],
   "source": [
    "df.info()"
   ]
  },
  {
   "cell_type": "code",
   "execution_count": 5,
   "id": "f8298f7d-1955-4b9c-9a7e-d08bfa5b6812",
   "metadata": {},
   "outputs": [],
   "source": [
    "df = df[['ram', 'storage', 'screen', 'final_price']]"
   ]
  },
  {
   "cell_type": "code",
   "execution_count": 6,
   "id": "e12298d2-06fd-45f7-b4e9-29125d45e520",
   "metadata": {},
   "outputs": [
    {
     "data": {
      "text/plain": [
       "count    2160.000000\n",
       "mean     1312.638509\n",
       "std       911.475417\n",
       "min       201.050000\n",
       "25%       661.082500\n",
       "50%      1031.945000\n",
       "75%      1708.970000\n",
       "max      7150.470000\n",
       "Name: final_price, dtype: float64"
      ]
     },
     "execution_count": 6,
     "metadata": {},
     "output_type": "execute_result"
    }
   ],
   "source": [
    "df['final_price'].describe()"
   ]
  },
  {
   "cell_type": "code",
   "execution_count": 7,
   "id": "a72d4d1f-31b2-4547-a7ef-e77ebf5cb0e5",
   "metadata": {},
   "outputs": [
    {
     "name": "stdout",
     "output_type": "stream",
     "text": [
      "<class 'pandas.core.frame.DataFrame'>\n",
      "RangeIndex: 2160 entries, 0 to 2159\n",
      "Data columns (total 4 columns):\n",
      " #   Column       Non-Null Count  Dtype  \n",
      "---  ------       --------------  -----  \n",
      " 0   ram          2160 non-null   int64  \n",
      " 1   storage      2160 non-null   int64  \n",
      " 2   screen       2156 non-null   float64\n",
      " 3   final_price  2160 non-null   float64\n",
      "dtypes: float64(2), int64(2)\n",
      "memory usage: 67.6 KB\n"
     ]
    }
   ],
   "source": [
    "df.info()"
   ]
  },
  {
   "cell_type": "code",
   "execution_count": 8,
   "id": "ccf3f155-46dd-4b57-ac6d-581831c754be",
   "metadata": {},
   "outputs": [
    {
     "data": {
      "text/plain": [
       "ram            0\n",
       "storage        0\n",
       "screen         4\n",
       "final_price    0\n",
       "dtype: int64"
      ]
     },
     "execution_count": 8,
     "metadata": {},
     "output_type": "execute_result"
    }
   ],
   "source": [
    "df.isnull().sum()"
   ]
  },
  {
   "cell_type": "code",
   "execution_count": 9,
   "id": "9e357cbf-ed57-4529-8069-963ede5ee5c1",
   "metadata": {},
   "outputs": [
    {
     "data": {
      "text/plain": [
       "16.0"
      ]
     },
     "execution_count": 9,
     "metadata": {},
     "output_type": "execute_result"
    }
   ],
   "source": [
    "df['ram'].median()"
   ]
  },
  {
   "cell_type": "code",
   "execution_count": 10,
   "id": "20b3af2d-5b10-4bae-a6da-7916ebf62312",
   "metadata": {},
   "outputs": [],
   "source": [
    "np.random.seed(42)\n",
    "\n",
    "n = len(df)\n",
    "\n",
    "n_val = int(0.2 * n)\n",
    "\n",
    "n_test = int(0.2 * n)\n",
    "\n",
    "n_train = n - (n_val + n_test)\n",
    "\n",
    "idx = np.arange(n)\n",
    "\n",
    "np.random.shuffle(idx)\n",
    "\n",
    "df_shuffled = df.iloc[idx]\n",
    "\n",
    "df_train = df_shuffled.iloc[:n_train].copy()\n",
    "\n",
    "df_val = df_shuffled.iloc[n_train: n_train + n_val].copy()\n",
    "\n",
    "df_test = df_shuffled.iloc[n_train + n_val: ].copy()\n",
    "\n",
    "y_train = df_train['final_price'].values\n",
    "\n",
    "y_val = df_val['final_price'].values"
   ]
  },
  {
   "cell_type": "code",
   "execution_count": 11,
   "id": "d68e9600-3288-46ab-bc98-77665d4ac1f8",
   "metadata": {},
   "outputs": [],
   "source": [
    "def prepare_X(df):\n",
    "\n",
    "    df_num = df[['ram', 'storage', 'screen']]\n",
    "\n",
    "    df_num = df_num.fillna(0)\n",
    "\n",
    "    X = df_num.values\n",
    "\n",
    "    return X"
   ]
  },
  {
   "cell_type": "code",
   "execution_count": 12,
   "id": "1b451b0b-06bf-4683-b20b-7997ea56a447",
   "metadata": {},
   "outputs": [],
   "source": [
    "def train_linear_regression(X, y):\n",
    "\n",
    "    ones = np.ones(X.shape[0])\n",
    "\n",
    "    X = np.column_stack([ones, X])\n",
    "\n",
    "    XTX = X.T.dot(X)\n",
    "\n",
    "    XTX_inv = np.linalg.inv(XTX)\n",
    "\n",
    "    w = XTX_inv.dot(X.T).dot(y)\n",
    "\n",
    "    return w[0], w[1:]"
   ]
  },
  {
   "cell_type": "code",
   "execution_count": 13,
   "id": "f1425d4f-8e9f-4af0-b1f8-620724af1ef6",
   "metadata": {},
   "outputs": [],
   "source": [
    "X_train = prepare_X(df_train)\n",
    "\n",
    "w_0, w = train_linear_regression(X_train, y_train)"
   ]
  },
  {
   "cell_type": "code",
   "execution_count": 14,
   "id": "0cb788da-06e6-46ca-b628-21f7202b3730",
   "metadata": {},
   "outputs": [],
   "source": [
    "X_val = prepare_X(df_val)\n",
    "\n",
    "y_pred = w_0 + X_val.dot(w)"
   ]
  },
  {
   "cell_type": "code",
   "execution_count": 15,
   "id": "f4955313-f93f-47fc-9e3a-f55d97ac75f5",
   "metadata": {},
   "outputs": [],
   "source": [
    "def rmse(y, y_pred):\n",
    "\n",
    "    error = y_pred - y\n",
    "\n",
    "    mse = (error ** 2).mean()\n",
    "\n",
    "    return round(np.sqrt(mse), 2)"
   ]
  },
  {
   "cell_type": "code",
   "execution_count": 16,
   "id": "72c46d85-83df-4733-98bf-037415043ddc",
   "metadata": {},
   "outputs": [
    {
     "data": {
      "text/plain": [
       "597.36"
      ]
     },
     "execution_count": 16,
     "metadata": {},
     "output_type": "execute_result"
    }
   ],
   "source": [
    "rmse(y_val, y_pred)"
   ]
  },
  {
   "cell_type": "code",
   "execution_count": 17,
   "id": "327f9a2c-f60a-424e-a063-3a175ae4dc2d",
   "metadata": {},
   "outputs": [],
   "source": [
    "mean = df_train['screen'].mean()"
   ]
  },
  {
   "cell_type": "code",
   "execution_count": 18,
   "id": "67c6c07d-e45c-436d-bd65-142fac152451",
   "metadata": {},
   "outputs": [],
   "source": [
    "def prepare_X2(df):\n",
    "\n",
    "    df_num = df[['ram', 'storage', 'screen']]\n",
    "\n",
    "    df_num = df_num.fillna(mean)\n",
    "\n",
    "    X = df_num.values\n",
    "\n",
    "    return X"
   ]
  },
  {
   "cell_type": "code",
   "execution_count": 19,
   "id": "d409322d-d5f6-4281-9b02-2f231a545a10",
   "metadata": {},
   "outputs": [],
   "source": [
    "X_train2 = prepare_X2(df_train)\n",
    "\n",
    "w_0, w = train_linear_regression(X_train2, y_train)"
   ]
  },
  {
   "cell_type": "code",
   "execution_count": 20,
   "id": "08ded3ff-ba47-4fa6-a0b7-131f2d64be5b",
   "metadata": {},
   "outputs": [],
   "source": [
    "X_val2 = prepare_X2(df_val)\n",
    "\n",
    "y_pred2 = w_0 + X_val2.dot(w)"
   ]
  },
  {
   "cell_type": "code",
   "execution_count": 21,
   "id": "620c7aba-2dc3-4e5f-a16e-dbe0c55ef7e1",
   "metadata": {},
   "outputs": [
    {
     "data": {
      "text/plain": [
       "600.27"
      ]
     },
     "execution_count": 21,
     "metadata": {},
     "output_type": "execute_result"
    }
   ],
   "source": [
    "rmse(y_val, y_pred2)"
   ]
  },
  {
   "cell_type": "code",
   "execution_count": 22,
   "id": "2360f2f8-02fb-49e0-b31f-6e720a9a8035",
   "metadata": {},
   "outputs": [],
   "source": [
    "def train_linear_regression_reg(X, y, r = 0.0):\n",
    "\n",
    "    ones = np.ones(X.shape[0])\n",
    "\n",
    "    X = np.column_stack([ones, X])\n",
    "\n",
    "    XTX = X.T.dot(X)\n",
    "\n",
    "    reg = r * np.eye(XTX.shape[0])\n",
    "\n",
    "    XTX = XTX + reg\n",
    "\n",
    "    XTX_inv = np.linalg.inv(XTX)\n",
    "\n",
    "    w = XTX_inv.dot(X.T).dot(y)\n",
    "\n",
    "    return w[0], w[1:]"
   ]
  },
  {
   "cell_type": "code",
   "execution_count": 23,
   "id": "c5d1dfd5-ce69-4df8-9703-1115409f16a0",
   "metadata": {},
   "outputs": [],
   "source": [
    " X_train3 = prepare_X(df_train)\n",
    "\n",
    " X_val3 = prepare_X(df_val)"
   ]
  },
  {
   "cell_type": "code",
   "execution_count": 24,
   "id": "ac8d7056-7dd2-4312-9a39-95bb8c55a61b",
   "metadata": {},
   "outputs": [
    {
     "name": "stdout",
     "output_type": "stream",
     "text": [
      " for r = 0, rmse = 597.36\n",
      " for r = 0.01, rmse = 597.36\n",
      " for r = 0.1, rmse = 597.35\n",
      " for r = 1, rmse = 597.21\n",
      " for r = 5, rmse = 597.01\n",
      " for r = 10, rmse = 597.06\n",
      " for r = 100, rmse = 597.9\n"
     ]
    }
   ],
   "source": [
    "r = [0, 0.01, 0.1, 1, 5, 10, 100]\n",
    "\n",
    "for i in r:\n",
    "\n",
    "    w_0, w = train_linear_regression_reg(X_train3, y_train, r = i)\n",
    "\n",
    "    y_pred3 = w_0 + X_val3.dot(w)\n",
    "\n",
    "    rmse_values = rmse(y_val, y_pred3)\n",
    "\n",
    "    print(f' for r = {i}, rmse = {rmse_values}')"
   ]
  },
  {
   "cell_type": "code",
   "execution_count": 25,
   "id": "cb30a53c-e5cf-442e-bbd1-23710145420c",
   "metadata": {},
   "outputs": [],
   "source": [
    "seeds = [0, 1, 2, 3, 4, 5, 6, 7, 8, 9]"
   ]
  },
  {
   "cell_type": "code",
   "execution_count": 26,
   "id": "c9f9b112-e6b7-448d-b75b-29937207850c",
   "metadata": {},
   "outputs": [],
   "source": [
    "rmse_list = []\n",
    "\n",
    "for i in seeds:\n",
    "\n",
    "    np.random.seed(i)\n",
    "    \n",
    "    np.random.shuffle(idx)\n",
    "    \n",
    "    df_shuffled = df.iloc[idx]\n",
    "    \n",
    "    df_train = df_shuffled.iloc[:n_train].copy()\n",
    "    \n",
    "    df_val = df_shuffled.iloc[n_train: n_train + n_val].copy()\n",
    "    \n",
    "    df_test = df_shuffled.iloc[n_train + n_val: ].copy()\n",
    "    \n",
    "    y_train = df_train['final_price'].values\n",
    "    \n",
    "    y_val = df_val['final_price'].values\n",
    "    \n",
    "    X_train = prepare_X(df_train)\n",
    "\n",
    "    w_0, w = train_linear_regression(X_train, y_train)\n",
    "    \n",
    "    X_val = prepare_X(df_val)\n",
    "\n",
    "    y_pred = w_0 + X_val.dot(w)\n",
    "\n",
    "    rmse_value = rmse(y_val, y_pred)\n",
    "\n",
    "    rmse_list.append(rmse_value)"
   ]
  },
  {
   "cell_type": "code",
   "execution_count": 27,
   "id": "29d5ef58-1ee9-485e-aa03-07ce98770962",
   "metadata": {},
   "outputs": [
    {
     "data": {
      "text/plain": [
       "[650.09, 610.85, 554.12, 584.52, 582.52, 623.52, 608.45, 563.1, 574.91, 591.61]"
      ]
     },
     "execution_count": 27,
     "metadata": {},
     "output_type": "execute_result"
    }
   ],
   "source": [
    "rmse_list"
   ]
  },
  {
   "cell_type": "code",
   "execution_count": 28,
   "id": "482e22a9-d8d0-43f3-a694-806abdcceb66",
   "metadata": {},
   "outputs": [],
   "source": [
    "import statistics\n",
    "\n",
    "std_dev = round(statistics.stdev(rmse_list), 3)"
   ]
  },
  {
   "cell_type": "code",
   "execution_count": 29,
   "id": "4ecf2e8a-a4a0-436b-a001-23847a4f61cc",
   "metadata": {},
   "outputs": [
    {
     "data": {
      "text/plain": [
       "29.147"
      ]
     },
     "execution_count": 29,
     "metadata": {},
     "output_type": "execute_result"
    }
   ],
   "source": [
    "std_dev"
   ]
  },
  {
   "cell_type": "code",
   "execution_count": 30,
   "id": "7f5f2252-a454-422f-b2e7-654cb24d98e4",
   "metadata": {},
   "outputs": [
    {
     "name": "stdout",
     "output_type": "stream",
     "text": [
      "581.04\n"
     ]
    }
   ],
   "source": [
    "np.random.seed(9)\n",
    "\n",
    "np.random.shuffle(idx)\n",
    "    \n",
    "df_shuffled = df.iloc[idx]\n",
    "\n",
    "df_train = df_shuffled.iloc[:n_train].copy()\n",
    "\n",
    "df_val = df_shuffled.iloc[n_train: n_train + n_val].copy()\n",
    "\n",
    "df_test = df_shuffled.iloc[n_train + n_val: ].copy()\n",
    "\n",
    "df_train = pd.concat([df_train, df_val], axis = 0)\n",
    "\n",
    "y_train = df_train['final_price'].values\n",
    "\n",
    "y_test = df_test['final_price'].values\n",
    "\n",
    "X_train = prepare_X(df_train)\n",
    "\n",
    "w_0, w = train_linear_regression_reg(X_train, y_train, r = 0.001)\n",
    "\n",
    "X_test = prepare_X(df_test)\n",
    "\n",
    "y_pred = w_0 + X_test.dot(w)\n",
    "\n",
    "rmse_value = rmse(y_test, y_pred)\n",
    "\n",
    "print(rmse_value)"
   ]
  }
 ],
 "metadata": {
  "kernelspec": {
   "display_name": "Python 3 (ipykernel)",
   "language": "python",
   "name": "python3"
  },
  "language_info": {
   "codemirror_mode": {
    "name": "ipython",
    "version": 3
   },
   "file_extension": ".py",
   "mimetype": "text/x-python",
   "name": "python",
   "nbconvert_exporter": "python",
   "pygments_lexer": "ipython3",
   "version": "3.12.4"
  }
 },
 "nbformat": 4,
 "nbformat_minor": 5
}
